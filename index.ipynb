{
 "cells": [
  {
   "cell_type": "markdown",
   "metadata": {},
   "source": [
    "# Join Statements - Lab\n",
    "\n",
    "## Introduction\n",
    "\n",
    "In this lab, you'll practice your knowledge on Join statements.\n",
    "\n",
    "## Objectives\n",
    "\n",
    "You will be able to:\n",
    "- Write queries that make use of various types of Joins\n",
    "- Join tables using foreign keys"
   ]
  },
  {
   "cell_type": "markdown",
   "metadata": {},
   "source": [
    "## CRM Schema\n",
    "\n",
    "In almost all cases, rather then just working with a single table we will typically need data from multiple tables. \n",
    "Doing this requires the use of **joins ** using shared columns from the two tables. \n",
    "\n",
    "In this lab, we'll use the same Customer Relationship Management (CRM) database we used in our lecture before!\n",
    "<img src='Database-Schema.png' width=550>"
   ]
  },
  {
   "cell_type": "markdown",
   "metadata": {},
   "source": [
    "## Connecting to the Database\n",
    "Import the necessary packages and connect to the database **data.sqlite**."
   ]
  },
  {
   "cell_type": "code",
   "execution_count": 15,
   "metadata": {},
   "outputs": [],
   "source": [
    "#Your code here\n",
    "import sqlite3\n",
    "import pandas as pd\n",
    "\n",
    "conn = sqlite3.connect('data.sqlite')\n",
    "cur = conn.cursor()"
   ]
  },
  {
   "cell_type": "markdown",
   "metadata": {},
   "source": [
    "## Display the names of all the employees in Boston."
   ]
  },
  {
   "cell_type": "code",
   "execution_count": 16,
   "metadata": {},
   "outputs": [
    {
     "data": {
      "text/html": [
       "<div>\n",
       "<style scoped>\n",
       "    .dataframe tbody tr th:only-of-type {\n",
       "        vertical-align: middle;\n",
       "    }\n",
       "\n",
       "    .dataframe tbody tr th {\n",
       "        vertical-align: top;\n",
       "    }\n",
       "\n",
       "    .dataframe thead th {\n",
       "        text-align: right;\n",
       "    }\n",
       "</style>\n",
       "<table border=\"1\" class=\"dataframe\">\n",
       "  <thead>\n",
       "    <tr style=\"text-align: right;\">\n",
       "      <th></th>\n",
       "      <th>0</th>\n",
       "      <th>1</th>\n",
       "    </tr>\n",
       "  </thead>\n",
       "  <tbody>\n",
       "    <tr>\n",
       "      <th>0</th>\n",
       "      <td>Julie</td>\n",
       "      <td>Firrelli</td>\n",
       "    </tr>\n",
       "    <tr>\n",
       "      <th>1</th>\n",
       "      <td>Steve</td>\n",
       "      <td>Patterson</td>\n",
       "    </tr>\n",
       "  </tbody>\n",
       "</table>\n",
       "</div>"
      ],
      "text/plain": [
       "       0          1\n",
       "0  Julie   Firrelli\n",
       "1  Steve  Patterson"
      ]
     },
     "execution_count": 16,
     "metadata": {},
     "output_type": "execute_result"
    }
   ],
   "source": [
    "#Your code here\n",
    "pd.DataFrame(cur.execute('''\n",
    "select firstName, lastName\n",
    "from employees\n",
    "join offices\n",
    "using(officeCode)\n",
    "WHERE city=\"Boston\"\n",
    ";''').fetchall())"
   ]
  },
  {
   "cell_type": "markdown",
   "metadata": {},
   "source": [
    "## Do any offices have no employees?"
   ]
  },
  {
   "cell_type": "code",
   "execution_count": 17,
   "metadata": {},
   "outputs": [
    {
     "data": {
      "text/html": [
       "<div>\n",
       "<style scoped>\n",
       "    .dataframe tbody tr th:only-of-type {\n",
       "        vertical-align: middle;\n",
       "    }\n",
       "\n",
       "    .dataframe tbody tr th {\n",
       "        vertical-align: top;\n",
       "    }\n",
       "\n",
       "    .dataframe thead th {\n",
       "        text-align: right;\n",
       "    }\n",
       "</style>\n",
       "<table border=\"1\" class=\"dataframe\">\n",
       "  <thead>\n",
       "    <tr style=\"text-align: right;\">\n",
       "      <th></th>\n",
       "      <th>0</th>\n",
       "      <th>1</th>\n",
       "    </tr>\n",
       "  </thead>\n",
       "  <tbody>\n",
       "    <tr>\n",
       "      <th>0</th>\n",
       "      <td>Boston</td>\n",
       "      <td>2</td>\n",
       "    </tr>\n",
       "    <tr>\n",
       "      <th>1</th>\n",
       "      <td>London</td>\n",
       "      <td>2</td>\n",
       "    </tr>\n",
       "    <tr>\n",
       "      <th>2</th>\n",
       "      <td>NYC</td>\n",
       "      <td>2</td>\n",
       "    </tr>\n",
       "    <tr>\n",
       "      <th>3</th>\n",
       "      <td>Paris</td>\n",
       "      <td>5</td>\n",
       "    </tr>\n",
       "    <tr>\n",
       "      <th>4</th>\n",
       "      <td>San Francisco</td>\n",
       "      <td>6</td>\n",
       "    </tr>\n",
       "    <tr>\n",
       "      <th>5</th>\n",
       "      <td>Sydney</td>\n",
       "      <td>4</td>\n",
       "    </tr>\n",
       "    <tr>\n",
       "      <th>6</th>\n",
       "      <td>Tokyo</td>\n",
       "      <td>2</td>\n",
       "    </tr>\n",
       "  </tbody>\n",
       "</table>\n",
       "</div>"
      ],
      "text/plain": [
       "               0  1\n",
       "0         Boston  2\n",
       "1         London  2\n",
       "2            NYC  2\n",
       "3          Paris  5\n",
       "4  San Francisco  6\n",
       "5         Sydney  4\n",
       "6          Tokyo  2"
      ]
     },
     "execution_count": 17,
     "metadata": {},
     "output_type": "execute_result"
    }
   ],
   "source": [
    "#Your code here\n",
    "pd.DataFrame(cur.execute('''\n",
    "select city, count(*)\n",
    "from offices\n",
    "left join employees\n",
    "using(officeCode)\n",
    "group by 1\n",
    ";''').fetchall())"
   ]
  },
  {
   "cell_type": "markdown",
   "metadata": {},
   "source": [
    "## Write 3 Questions of your own and answer them"
   ]
  },
  {
   "cell_type": "code",
   "execution_count": 18,
   "metadata": {},
   "outputs": [],
   "source": [
    "# Answers will vary\n",
    "#1) Get order count by customer name\n",
    "#2) get product count by order number\n",
    "#3) get office city by employee full name"
   ]
  },
  {
   "cell_type": "code",
   "execution_count": 33,
   "metadata": {},
   "outputs": [
    {
     "data": {
      "text/plain": [
       "[('ANG Resellers',),\n",
       " ('AV Stores, Co.',),\n",
       " ('Alpha Cognac',),\n",
       " ('American Souvenirs Inc',),\n",
       " ('Amica Models & Co.',),\n",
       " (\"Anna's Decorations, Ltd\",),\n",
       " ('Anton Designs, Ltd.',),\n",
       " ('Asian Shopping Network, Co',),\n",
       " ('Asian Treasures, Inc.',),\n",
       " ('Atelier graphique',),\n",
       " ('Australian Collectables, Ltd',),\n",
       " ('Australian Collectors, Co.',),\n",
       " ('Australian Gift Network, Co',),\n",
       " ('Auto Associés & Cie.',),\n",
       " ('Auto Canal+ Petit',),\n",
       " ('Auto-Moto Classics Inc.',),\n",
       " ('BG&E Collectables',),\n",
       " ('Baane Mini Imports',),\n",
       " ('Bavarian Collectables Imports, Co.',),\n",
       " ('Blauer See Auto, Co.',),\n",
       " ('Boards & Toys Co.',),\n",
       " ('CAF Imports',),\n",
       " ('Cambridge Collectables Co.',),\n",
       " ('Canadian Gift Exchange Network',),\n",
       " ('Classic Gift Ideas, Inc',),\n",
       " ('Classic Legends Inc.',),\n",
       " ('Clover Collections, Co.',),\n",
       " ('Collectable Mini Designs Co.',),\n",
       " ('Collectables For Less Inc.',),\n",
       " ('Corporate Gift Ideas Co.',),\n",
       " ('Corrida Auto Replicas, Ltd',),\n",
       " ('Cramer Spezialitäten, Ltd',),\n",
       " ('Cruz & Sons Co.',),\n",
       " ('Daedalus Designs Imports',),\n",
       " ('Danish Wholesale Imports',),\n",
       " ('Der Hund Imports',),\n",
       " ('Diecast Classics Inc.',),\n",
       " ('Diecast Collectables',),\n",
       " ('Double Decker Gift Stores, Ltd',),\n",
       " ('Down Under Souveniers, Inc',),\n",
       " ('Dragon Souveniers, Ltd.',),\n",
       " ('Enaco Distributors',),\n",
       " ('Euro+ Shopping Channel',),\n",
       " ('Extreme Desk Decorations, Ltd',),\n",
       " ('Feuer Online Stores, Inc',),\n",
       " ('Franken Gifts, Co',),\n",
       " ('Frau da Collezione',),\n",
       " ('FunGiftIdeas.com',),\n",
       " ('Gift Depot Inc.',),\n",
       " ('Gift Ideas Corp.',),\n",
       " ('Gifts4AllAges.com',),\n",
       " ('GiftsForHim.com',),\n",
       " ('Handji Gifts& Co',),\n",
       " ('Havel & Zbyszek Co',),\n",
       " ('Heintze Collectables',),\n",
       " ('Herkku Gifts',),\n",
       " ('Iberia Gift Imports, Corp.',),\n",
       " (\"Kelly's Gift Shop\",),\n",
       " ('King Kong Collectables, Co.',),\n",
       " ('Kommission Auto',),\n",
       " ('Kremlin Collectables, Co.',),\n",
       " (\"L'ordine Souveniers\",),\n",
       " (\"La Corne D'abondance, Co.\",),\n",
       " ('La Rochelle Gifts',),\n",
       " ('Land of Toys Inc.',),\n",
       " ('Lisboa Souveniers, Inc',),\n",
       " ('Lyon Souveniers',),\n",
       " ('Marseille Mini Autos',),\n",
       " (\"Marta's Replicas Co.\",),\n",
       " (\"Men 'R' US Retailers, Ltd.\",),\n",
       " ('Messner Shopping Network',),\n",
       " ('Microscale Inc.',),\n",
       " ('Mini Auto Werke',),\n",
       " ('Mini Caravy',),\n",
       " ('Mini Classics',),\n",
       " ('Mini Creations Ltd.',),\n",
       " ('Mini Gifts Distributors Ltd.',),\n",
       " ('Mini Wheels Co.',),\n",
       " ('Mit Vergnügen & Co.',),\n",
       " ('Motor Mint Distributors Inc.',),\n",
       " ('Muscle Machine Inc',),\n",
       " ('Natürlich Autos',),\n",
       " ('Norway Gifts By Mail, Co.',),\n",
       " ('Online Diecast Creations Co.',),\n",
       " ('Online Mini Collectables',),\n",
       " ('Osaka Souveniers Co.',),\n",
       " ('Oulu Toy Supplies, Inc.',),\n",
       " ('Petit Auto',),\n",
       " ('Porto Imports Co.',),\n",
       " ('Precious Collectables',),\n",
       " ('Québec Home Shopping Network',),\n",
       " ('Raanan Stores, Inc',),\n",
       " ('Reims Collectables',),\n",
       " ('Rovelli Gifts',),\n",
       " ('Royal Canadian Collectables, Ltd.',),\n",
       " ('Royale Belge',),\n",
       " ('SAR Distributors, Co',),\n",
       " ('Salzburg Collectables',),\n",
       " ('Saveley & Henriot, Co.',),\n",
       " ('Scandinavian Gift Ideas',),\n",
       " ('Schuyler Imports',),\n",
       " ('Signal Collectibles Ltd.',),\n",
       " ('Signal Gift Stores',),\n",
       " ('Souveniers And Things Co.',),\n",
       " ('Stuttgart Collectable Exchange',),\n",
       " ('Stylish Desk Decors, Co.',),\n",
       " ('Suominen Souveniers',),\n",
       " ('Super Scale Inc.',),\n",
       " ('Technics Stores Inc.',),\n",
       " ('Tekni Collectables Inc.',),\n",
       " ('The Sharp Gifts Warehouse',),\n",
       " ('Tokyo Collectables, Ltd',),\n",
       " ('Toms Spezialitäten, Ltd',),\n",
       " ('Toys of Finland, Co.',),\n",
       " ('Toys4GrownUps.com',),\n",
       " ('UK Collectables, Ltd.',),\n",
       " ('Vida Sport, Ltd',),\n",
       " ('Vitachrome Inc.',),\n",
       " ('Volvo Model Replicas, Co',),\n",
       " ('Warburg Exchange',),\n",
       " ('West Coast Collectables Co.',),\n",
       " ('giftsbymail.co.uk',)]"
      ]
     },
     "execution_count": 33,
     "metadata": {},
     "output_type": "execute_result"
    }
   ],
   "source": [
    "# Your code here\n",
    "cur.execute('''\n",
    "SELECT customers.customerName, COUNT()\n",
    "FROM customers\n",
    "LEFT JOIN orders\n",
    "ON customers.customerNumber = orders.customerNumber\n",
    "GROUP BY customers.customerName\n",
    "ORDER BY customers.customerName;\n",
    "''').fetchall()"
   ]
  },
  {
   "cell_type": "code",
   "execution_count": null,
   "metadata": {},
   "outputs": [],
   "source": [
    "# Your code here"
   ]
  },
  {
   "cell_type": "code",
   "execution_count": null,
   "metadata": {},
   "outputs": [],
   "source": [
    "# Your code here"
   ]
  },
  {
   "cell_type": "markdown",
   "metadata": {},
   "source": [
    "## Level Up: Display the names of each product each employee has sold."
   ]
  },
  {
   "cell_type": "code",
   "execution_count": null,
   "metadata": {},
   "outputs": [],
   "source": [
    "# Your code here"
   ]
  },
  {
   "cell_type": "markdown",
   "metadata": {},
   "source": [
    "## Level Up: Display the Number of Products each Employee Has sold"
   ]
  },
  {
   "cell_type": "code",
   "execution_count": null,
   "metadata": {},
   "outputs": [],
   "source": [
    "#Your code here"
   ]
  },
  {
   "cell_type": "markdown",
   "metadata": {},
   "source": [
    "## Summary"
   ]
  },
  {
   "cell_type": "markdown",
   "metadata": {},
   "source": [
    "Congrats! You now know how to use Join statements, along with leveraging your foreign keys knowledge!"
   ]
  }
 ],
 "metadata": {
  "kernelspec": {
   "display_name": "Python 3",
   "language": "python",
   "name": "python3"
  },
  "language_info": {
   "codemirror_mode": {
    "name": "ipython",
    "version": 3
   },
   "file_extension": ".py",
   "mimetype": "text/x-python",
   "name": "python",
   "nbconvert_exporter": "python",
   "pygments_lexer": "ipython3",
   "version": "3.6.6"
  }
 },
 "nbformat": 4,
 "nbformat_minor": 2
}
