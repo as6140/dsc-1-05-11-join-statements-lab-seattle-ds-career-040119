{
 "cells": [
  {
   "cell_type": "markdown",
   "metadata": {},
   "source": [
    "# Join Statements - Lab\n",
    "\n",
    "## Introduction\n",
    "\n",
    "In this lab, you'll practice your knowledge on Join statements.\n",
    "\n",
    "## Objectives\n",
    "\n",
    "You will be able to:\n",
    "- Write queries that make use of various types of Joins\n",
    "- Join tables using foreign keys"
   ]
  },
  {
   "cell_type": "markdown",
   "metadata": {},
   "source": [
    "## CRM Schema\n",
    "\n",
    "In almost all cases, rather then just working with a single table we will typically need data from multiple tables. \n",
    "Doing this requires the use of **joins ** using shared columns from the two tables. \n",
    "\n",
    "In this lab, we'll use the same Customer Relationship Management (CRM) database we used in our lecture before!\n",
    "<img src='Database-Schema.png' width=550>"
   ]
  },
  {
   "cell_type": "markdown",
   "metadata": {},
   "source": [
    "## Connecting to the Database\n",
    "Import the necessary packages and connect to the database **data.sqlite**."
   ]
  },
  {
   "cell_type": "code",
   "execution_count": 15,
   "metadata": {},
   "outputs": [],
   "source": [
    "#Your code here\n",
    "import sqlite3\n",
    "import pandas as pd\n",
    "\n",
    "conn = sqlite3.connect('data.sqlite')\n",
    "cur = conn.cursor()"
   ]
  },
  {
   "cell_type": "markdown",
   "metadata": {},
   "source": [
    "## Display the names of all the employees in Boston."
   ]
  },
  {
   "cell_type": "code",
   "execution_count": 16,
   "metadata": {},
   "outputs": [
    {
     "data": {
      "text/html": [
       "<div>\n",
       "<style scoped>\n",
       "    .dataframe tbody tr th:only-of-type {\n",
       "        vertical-align: middle;\n",
       "    }\n",
       "\n",
       "    .dataframe tbody tr th {\n",
       "        vertical-align: top;\n",
       "    }\n",
       "\n",
       "    .dataframe thead th {\n",
       "        text-align: right;\n",
       "    }\n",
       "</style>\n",
       "<table border=\"1\" class=\"dataframe\">\n",
       "  <thead>\n",
       "    <tr style=\"text-align: right;\">\n",
       "      <th></th>\n",
       "      <th>0</th>\n",
       "      <th>1</th>\n",
       "    </tr>\n",
       "  </thead>\n",
       "  <tbody>\n",
       "    <tr>\n",
       "      <th>0</th>\n",
       "      <td>Julie</td>\n",
       "      <td>Firrelli</td>\n",
       "    </tr>\n",
       "    <tr>\n",
       "      <th>1</th>\n",
       "      <td>Steve</td>\n",
       "      <td>Patterson</td>\n",
       "    </tr>\n",
       "  </tbody>\n",
       "</table>\n",
       "</div>"
      ],
      "text/plain": [
       "       0          1\n",
       "0  Julie   Firrelli\n",
       "1  Steve  Patterson"
      ]
     },
     "execution_count": 16,
     "metadata": {},
     "output_type": "execute_result"
    }
   ],
   "source": [
    "#Your code here\n",
    "pd.DataFrame(cur.execute('''\n",
    "select firstName, lastName\n",
    "from employees\n",
    "join offices\n",
    "using(officeCode)\n",
    "WHERE city=\"Boston\"\n",
    ";''').fetchall())"
   ]
  },
  {
   "cell_type": "markdown",
   "metadata": {},
   "source": [
    "## Do any offices have no employees?"
   ]
  },
  {
   "cell_type": "code",
   "execution_count": 17,
   "metadata": {},
   "outputs": [
    {
     "data": {
      "text/html": [
       "<div>\n",
       "<style scoped>\n",
       "    .dataframe tbody tr th:only-of-type {\n",
       "        vertical-align: middle;\n",
       "    }\n",
       "\n",
       "    .dataframe tbody tr th {\n",
       "        vertical-align: top;\n",
       "    }\n",
       "\n",
       "    .dataframe thead th {\n",
       "        text-align: right;\n",
       "    }\n",
       "</style>\n",
       "<table border=\"1\" class=\"dataframe\">\n",
       "  <thead>\n",
       "    <tr style=\"text-align: right;\">\n",
       "      <th></th>\n",
       "      <th>0</th>\n",
       "      <th>1</th>\n",
       "    </tr>\n",
       "  </thead>\n",
       "  <tbody>\n",
       "    <tr>\n",
       "      <th>0</th>\n",
       "      <td>Boston</td>\n",
       "      <td>2</td>\n",
       "    </tr>\n",
       "    <tr>\n",
       "      <th>1</th>\n",
       "      <td>London</td>\n",
       "      <td>2</td>\n",
       "    </tr>\n",
       "    <tr>\n",
       "      <th>2</th>\n",
       "      <td>NYC</td>\n",
       "      <td>2</td>\n",
       "    </tr>\n",
       "    <tr>\n",
       "      <th>3</th>\n",
       "      <td>Paris</td>\n",
       "      <td>5</td>\n",
       "    </tr>\n",
       "    <tr>\n",
       "      <th>4</th>\n",
       "      <td>San Francisco</td>\n",
       "      <td>6</td>\n",
       "    </tr>\n",
       "    <tr>\n",
       "      <th>5</th>\n",
       "      <td>Sydney</td>\n",
       "      <td>4</td>\n",
       "    </tr>\n",
       "    <tr>\n",
       "      <th>6</th>\n",
       "      <td>Tokyo</td>\n",
       "      <td>2</td>\n",
       "    </tr>\n",
       "  </tbody>\n",
       "</table>\n",
       "</div>"
      ],
      "text/plain": [
       "               0  1\n",
       "0         Boston  2\n",
       "1         London  2\n",
       "2            NYC  2\n",
       "3          Paris  5\n",
       "4  San Francisco  6\n",
       "5         Sydney  4\n",
       "6          Tokyo  2"
      ]
     },
     "execution_count": 17,
     "metadata": {},
     "output_type": "execute_result"
    }
   ],
   "source": [
    "#Your code here\n",
    "pd.DataFrame(cur.execute('''\n",
    "select city, count(*)\n",
    "from offices\n",
    "left join employees\n",
    "using(officeCode)\n",
    "group by 1\n",
    ";''').fetchall())"
   ]
  },
  {
   "cell_type": "markdown",
   "metadata": {},
   "source": [
    "## Write 3 Questions of your own and answer them"
   ]
  },
  {
   "cell_type": "code",
   "execution_count": 18,
   "metadata": {},
   "outputs": [],
   "source": [
    "# Answers will vary\n",
    "#1) Get order count by customer name\n",
    "#2) get product count by order number\n",
    "#3) get office city by employee full name"
   ]
  },
  {
   "cell_type": "code",
   "execution_count": 34,
   "metadata": {},
   "outputs": [
    {
     "data": {
      "text/plain": [
       "[('ANG Resellers', 1),\n",
       " ('AV Stores, Co.', 3),\n",
       " ('Alpha Cognac', 3),\n",
       " ('American Souvenirs Inc', 1),\n",
       " ('Amica Models & Co.', 2),\n",
       " (\"Anna's Decorations, Ltd\", 4),\n",
       " ('Anton Designs, Ltd.', 1),\n",
       " ('Asian Shopping Network, Co', 1),\n",
       " ('Asian Treasures, Inc.', 1),\n",
       " ('Atelier graphique', 3),\n",
       " ('Australian Collectables, Ltd', 3),\n",
       " ('Australian Collectors, Co.', 5),\n",
       " ('Australian Gift Network, Co', 3),\n",
       " ('Auto Associés & Cie.', 2),\n",
       " ('Auto Canal+ Petit', 3),\n",
       " ('Auto-Moto Classics Inc.', 3),\n",
       " ('BG&E Collectables', 1),\n",
       " ('Baane Mini Imports', 4),\n",
       " ('Bavarian Collectables Imports, Co.', 1),\n",
       " ('Blauer See Auto, Co.', 4),\n",
       " ('Boards & Toys Co.', 2),\n",
       " ('CAF Imports', 2),\n",
       " ('Cambridge Collectables Co.', 2),\n",
       " ('Canadian Gift Exchange Network', 2),\n",
       " ('Classic Gift Ideas, Inc', 2),\n",
       " ('Classic Legends Inc.', 3),\n",
       " ('Clover Collections, Co.', 2),\n",
       " ('Collectable Mini Designs Co.', 2),\n",
       " ('Collectables For Less Inc.', 3),\n",
       " ('Corporate Gift Ideas Co.', 4),\n",
       " ('Corrida Auto Replicas, Ltd', 3),\n",
       " ('Cramer Spezialitäten, Ltd', 1),\n",
       " ('Cruz & Sons Co.', 3),\n",
       " ('Daedalus Designs Imports', 2),\n",
       " ('Danish Wholesale Imports', 5),\n",
       " ('Der Hund Imports', 1),\n",
       " ('Diecast Classics Inc.', 4),\n",
       " ('Diecast Collectables', 2),\n",
       " ('Double Decker Gift Stores, Ltd', 2),\n",
       " ('Down Under Souveniers, Inc', 5),\n",
       " ('Dragon Souveniers, Ltd.', 5),\n",
       " ('Enaco Distributors', 3),\n",
       " ('Euro+ Shopping Channel', 26),\n",
       " ('Extreme Desk Decorations, Ltd', 3),\n",
       " ('Feuer Online Stores, Inc', 1),\n",
       " ('Franken Gifts, Co', 1),\n",
       " ('Frau da Collezione', 2),\n",
       " ('FunGiftIdeas.com', 3),\n",
       " ('Gift Depot Inc.', 3),\n",
       " ('Gift Ideas Corp.', 3),\n",
       " ('Gifts4AllAges.com', 3),\n",
       " ('GiftsForHim.com', 3),\n",
       " ('Handji Gifts& Co', 4),\n",
       " ('Havel & Zbyszek Co', 1),\n",
       " ('Heintze Collectables', 2),\n",
       " ('Herkku Gifts', 3),\n",
       " ('Iberia Gift Imports, Corp.', 2),\n",
       " (\"Kelly's Gift Shop\", 4),\n",
       " ('King Kong Collectables, Co.', 2),\n",
       " ('Kommission Auto', 1),\n",
       " ('Kremlin Collectables, Co.', 1),\n",
       " (\"L'ordine Souveniers\", 3),\n",
       " (\"La Corne D'abondance, Co.\", 3),\n",
       " ('La Rochelle Gifts', 4),\n",
       " ('Land of Toys Inc.', 4),\n",
       " ('Lisboa Souveniers, Inc', 1),\n",
       " ('Lyon Souveniers', 3),\n",
       " ('Marseille Mini Autos', 3),\n",
       " (\"Marta's Replicas Co.\", 2),\n",
       " (\"Men 'R' US Retailers, Ltd.\", 2),\n",
       " ('Messner Shopping Network', 1),\n",
       " ('Microscale Inc.', 2),\n",
       " ('Mini Auto Werke', 3),\n",
       " ('Mini Caravy', 3),\n",
       " ('Mini Classics', 2),\n",
       " ('Mini Creations Ltd.', 3),\n",
       " ('Mini Gifts Distributors Ltd.', 17),\n",
       " ('Mini Wheels Co.', 3),\n",
       " ('Mit Vergnügen & Co.', 1),\n",
       " ('Motor Mint Distributors Inc.', 3),\n",
       " ('Muscle Machine Inc', 4),\n",
       " ('Natürlich Autos', 1),\n",
       " ('Norway Gifts By Mail, Co.', 2),\n",
       " ('Online Diecast Creations Co.', 3),\n",
       " ('Online Mini Collectables', 2),\n",
       " ('Osaka Souveniers Co.', 2),\n",
       " ('Oulu Toy Supplies, Inc.', 3),\n",
       " ('Petit Auto', 3),\n",
       " ('Porto Imports Co.', 1),\n",
       " ('Precious Collectables', 1),\n",
       " ('Québec Home Shopping Network', 3),\n",
       " ('Raanan Stores, Inc', 1),\n",
       " ('Reims Collectables', 5),\n",
       " ('Rovelli Gifts', 3),\n",
       " ('Royal Canadian Collectables, Ltd.', 2),\n",
       " ('Royale Belge', 4),\n",
       " ('SAR Distributors, Co', 1),\n",
       " ('Salzburg Collectables', 4),\n",
       " ('Saveley & Henriot, Co.', 3),\n",
       " ('Scandinavian Gift Ideas', 3),\n",
       " ('Schuyler Imports', 1),\n",
       " ('Signal Collectibles Ltd.', 2),\n",
       " ('Signal Gift Stores', 3),\n",
       " ('Souveniers And Things Co.', 4),\n",
       " ('Stuttgart Collectable Exchange', 1),\n",
       " ('Stylish Desk Decors, Co.', 3),\n",
       " ('Suominen Souveniers', 3),\n",
       " ('Super Scale Inc.', 2),\n",
       " ('Technics Stores Inc.', 4),\n",
       " ('Tekni Collectables Inc.', 3),\n",
       " ('The Sharp Gifts Warehouse', 4),\n",
       " ('Tokyo Collectables, Ltd', 4),\n",
       " ('Toms Spezialitäten, Ltd', 2),\n",
       " ('Toys of Finland, Co.', 3),\n",
       " ('Toys4GrownUps.com', 3),\n",
       " ('UK Collectables, Ltd.', 3),\n",
       " ('Vida Sport, Ltd', 2),\n",
       " ('Vitachrome Inc.', 3),\n",
       " ('Volvo Model Replicas, Co', 4),\n",
       " ('Warburg Exchange', 1),\n",
       " ('West Coast Collectables Co.', 2),\n",
       " ('giftsbymail.co.uk', 2)]"
      ]
     },
     "execution_count": 34,
     "metadata": {},
     "output_type": "execute_result"
    }
   ],
   "source": [
    "# Your code here\n",
    "cur.execute('''\n",
    "SELECT customers.customerName, COUNT(*)\n",
    "FROM customers\n",
    "LEFT JOIN orders\n",
    "ON customers.customerNumber = orders.customerNumber\n",
    "GROUP BY customers.customerName\n",
    "ORDER BY COUNT;\n",
    "''').fetchall()"
   ]
  },
  {
   "cell_type": "code",
   "execution_count": null,
   "metadata": {},
   "outputs": [],
   "source": [
    "# Your code here"
   ]
  },
  {
   "cell_type": "code",
   "execution_count": null,
   "metadata": {},
   "outputs": [],
   "source": [
    "# Your code here"
   ]
  },
  {
   "cell_type": "markdown",
   "metadata": {},
   "source": [
    "## Level Up: Display the names of each product each employee has sold."
   ]
  },
  {
   "cell_type": "code",
   "execution_count": null,
   "metadata": {},
   "outputs": [],
   "source": [
    "# Your code here"
   ]
  },
  {
   "cell_type": "markdown",
   "metadata": {},
   "source": [
    "## Level Up: Display the Number of Products each Employee Has sold"
   ]
  },
  {
   "cell_type": "code",
   "execution_count": null,
   "metadata": {},
   "outputs": [],
   "source": [
    "#Your code here"
   ]
  },
  {
   "cell_type": "markdown",
   "metadata": {},
   "source": [
    "## Summary"
   ]
  },
  {
   "cell_type": "markdown",
   "metadata": {},
   "source": [
    "Congrats! You now know how to use Join statements, along with leveraging your foreign keys knowledge!"
   ]
  }
 ],
 "metadata": {
  "kernelspec": {
   "display_name": "Python 3",
   "language": "python",
   "name": "python3"
  },
  "language_info": {
   "codemirror_mode": {
    "name": "ipython",
    "version": 3
   },
   "file_extension": ".py",
   "mimetype": "text/x-python",
   "name": "python",
   "nbconvert_exporter": "python",
   "pygments_lexer": "ipython3",
   "version": "3.6.6"
  }
 },
 "nbformat": 4,
 "nbformat_minor": 2
}
